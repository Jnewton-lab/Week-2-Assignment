{
 "cells": [
  {
   "cell_type": "markdown",
   "metadata": {},
   "source": [
    "This code arrange the wheat grains on a 4 square plate"
   ]
  },
  {
   "cell_type": "code",
   "execution_count": 70,
   "metadata": {},
   "outputs": [
    {
     "name": "stdout",
     "output_type": "stream",
     "text": [
      "Arrange wheats on a plate of 4 square (list) :[1, 2, 4, 8]\n"
     ]
    }
   ],
   "source": [
    "n_square = 4\n",
    "chess_board_list = [1]\n",
    "for _ in range(n_square - 1):\n",
    "    chess_board_list.append(2*chess_board_list[_])\n",
    "print(\"Arrange wheats on a plate of 4 square (list) :{}\".format(chess_board_list))"
   ]
  },
  {
   "cell_type": "code",
   "execution_count": 71,
   "metadata": {},
   "outputs": [
    {
     "name": "stdout",
     "output_type": "stream",
     "text": [
      "The type of chess_board_list:<class 'list'>,chess_board_list:<class 'numpy.ndarray'>\n"
     ]
    }
   ],
   "source": [
    "import numpy as np\n",
    "chess_board_ndarray = np.array(chess_board_list)\n",
    "print(\"The type of chess_board_list:{},chess_board_list:{}\".format(type(chess_board_list),type(chess_board_ndarray)))"
   ]
  },
  {
   "cell_type": "code",
   "execution_count": 72,
   "metadata": {},
   "outputs": [
    {
     "name": "stdout",
     "output_type": "stream",
     "text": [
      "Arrange wheats on a plate of 4 square (ndarray) :[1 2 4 8]\n"
     ]
    }
   ],
   "source": [
    "print(\"Arrange wheats on a plate of 4 square (ndarray) :{}\".format(chess_board_ndarray))"
   ]
  },
  {
   "cell_type": "markdown",
   "metadata": {},
   "source": [
    "# [Problem 1] Number of wheat on a 2 x 2 square chess board"
   ]
  },
  {
   "cell_type": "markdown",
   "metadata": {},
   "source": [
    "Represent a 2 x 2 square chessboard by ndarray and calculate the number of \n",
    "wheat in each square. After placing one wheat on the upper left square, proceed to two to the right,\n",
    "four to the lower left, and eight to the lower right."
   ]
  },
  {
   "cell_type": "code",
   "execution_count": 73,
   "metadata": {},
   "outputs": [
    {
     "name": "stdout",
     "output_type": "stream",
     "text": [
      "2x2 SQUARE CHESS BOARD:\n",
      "[[1 2]\n",
      " [4 8]]\n"
     ]
    }
   ],
   "source": [
    "square_size= (2,2)\n",
    "chess_board_ndarray = chess_board_ndarray.reshape(square_size)\n",
    "print(\"2x2 SQUARE CHESS BOARD:\\n{}\".format(chess_board_ndarray))"
   ]
  },
  {
   "cell_type": "markdown",
   "metadata": {},
   "source": [
    "# [Problem 2] Expansion to n × m mass"
   ]
  },
  {
   "cell_type": "markdown",
   "metadata": {},
   "source": [
    "A  function that returns a ndarray containing the number of wheat\n",
    "on an nxm chess board. Then use this function to find the number of wheat on the 8x8 square chess board"
   ]
  },
  {
   "cell_type": "code",
   "execution_count": 74,
   "metadata": {},
   "outputs": [
    {
     "name": "stdout",
     "output_type": "stream",
     "text": [
      "The Number of wheats on an 8/8 chessboard\n",
      "[[1.00000000e+00 2.00000000e+00 4.00000000e+00 8.00000000e+00\n",
      "  1.60000000e+01 3.20000000e+01 6.40000000e+01 1.28000000e+02]\n",
      " [2.56000000e+02 5.12000000e+02 1.02400000e+03 2.04800000e+03\n",
      "  4.09600000e+03 8.19200000e+03 1.63840000e+04 3.27680000e+04]\n",
      " [6.55360000e+04 1.31072000e+05 2.62144000e+05 5.24288000e+05\n",
      "  1.04857600e+06 2.09715200e+06 4.19430400e+06 8.38860800e+06]\n",
      " [1.67772160e+07 3.35544320e+07 6.71088640e+07 1.34217728e+08\n",
      "  2.68435456e+08 5.36870912e+08 1.07374182e+09 2.14748365e+09]\n",
      " [4.29496730e+09 8.58993459e+09 1.71798692e+10 3.43597384e+10\n",
      "  6.87194767e+10 1.37438953e+11 2.74877907e+11 5.49755814e+11]\n",
      " [1.09951163e+12 2.19902326e+12 4.39804651e+12 8.79609302e+12\n",
      "  1.75921860e+13 3.51843721e+13 7.03687442e+13 1.40737488e+14]\n",
      " [2.81474977e+14 5.62949953e+14 1.12589991e+15 2.25179981e+15\n",
      "  4.50359963e+15 9.00719925e+15 1.80143985e+16 3.60287970e+16]\n",
      " [7.20575940e+16 1.44115188e+17 2.88230376e+17 5.76460752e+17\n",
      "  1.15292150e+18 2.30584301e+18 4.61168602e+18 9.22337204e+18]]\n"
     ]
    }
   ],
   "source": [
    "number_square = 64\n",
    "ches_board_list = [1]\n",
    "for _ in range(number_square - 1):\n",
    "    ches_board_list.append(2*ches_board_list[_])\n",
    "    \n",
    "def calc_n_of_wheats(n,m):\n",
    "    number_square = n*m\n",
    "    ches_board_list =[1]\n",
    "    for square in range(number_square-1):\n",
    "        ches_board_list.append(2*ches_board_list[square])\n",
    "    return np.array(ches_board_list).reshape(n,m)\n",
    "print(\"The Number of wheats on an 8/8 chessboard\")\n",
    "print(calc_n_of_wheats(8,8))"
   ]
  },
  {
   "cell_type": "markdown",
   "metadata": {},
   "source": [
    "# [Problem 3] Total number of wheat"
   ]
  },
  {
   "cell_type": "code",
   "execution_count": 75,
   "metadata": {},
   "outputs": [],
   "source": [
    "n_square = 8\n",
    "chess_board_list = [1]\n",
    "for _ in range(n_square - 1):\n",
    "    chess_board_list.append(2*chess_board_list[_])"
   ]
  },
  {
   "cell_type": "code",
   "execution_count": 76,
   "metadata": {},
   "outputs": [],
   "source": [
    "import numpy as np\n",
    "chess_board_ndarray = np.array(chess_board_list)"
   ]
  },
  {
   "cell_type": "code",
   "execution_count": 77,
   "metadata": {},
   "outputs": [],
   "source": [
    "number_square = 64\n",
    "ches_board_list = [1]\n",
    "for _ in range(number_square - 1):\n",
    "    ches_board_list.append(2*ches_board_list[_])\n",
    "    \n",
    "def calc_n_of_wheats(n,m):\n",
    "    number_square = n*m\n",
    "    ches_board_list =[1]\n",
    "    for square in range(number_square-1):\n",
    "        ches_board_list.append(2*ches_board_list[square])\n",
    "    return np.array(ches_board_list).reshape(n,m)"
   ]
  },
  {
   "cell_type": "code",
   "execution_count": 78,
   "metadata": {},
   "outputs": [
    {
     "name": "stdout",
     "output_type": "stream",
     "text": [
      "the tatal number of wheats 1.8446744073709552e+19\n"
     ]
    }
   ],
   "source": [
    "chess_board_ndarray = calc_n_of_wheats(8,8)\n",
    "total = chess_board_ndarray.sum()\n",
    "print(\"the tatal number of wheats\",total)"
   ]
  },
  {
   "cell_type": "markdown",
   "metadata": {},
   "source": [
    "# SHOW IN BAR CHART"
   ]
  },
  {
   "cell_type": "code",
   "execution_count": 79,
   "metadata": {},
   "outputs": [
    {
     "data": {
      "image/png": "[encoded data removed]",
      "text/plain": [
       "<Figure size 432x288 with 1 Axes>"
      ]
     },
     "metadata": {
      "needs_background": "light"
     },
     "output_type": "display_data"
    }
   ],
   "source": [
    "import matplotlib.pyplot as plt\n",
    "%matplotlib inline\n",
    "plt.xlabel(\"column\")\n",
    "plt.ylabel(\"number\")\n",
    "plt.title(\"number in each column\")\n",
    "plt.bar(np.arange(1,9), chess_board_ndarray.mean(axis=0))\n",
    "plt.show()"
   ]
  },
  {
   "cell_type": "code",
   "execution_count": 80,
   "metadata": {},
   "outputs": [],
   "source": [
    "###the average of each column"
   ]
  },
  {
   "cell_type": "code",
   "execution_count": 81,
   "metadata": {},
   "outputs": [
    {
     "name": "stdout",
     "output_type": "stream",
     "text": [
      "mean of the ndarray on 0 axis: [9.04252160e+15 1.80850432e+16 3.61700864e+16 7.23401728e+16\n",
      " 1.44680346e+17 2.89360691e+17 5.78721383e+17 1.15744277e+18]\n"
     ]
    }
   ],
   "source": [
    "print(\"mean of the ndarray on 0 axis:\",chess_board_ndarray.mean(axis=0))"
   ]
  },
  {
   "cell_type": "markdown",
   "metadata": {},
   "source": [
    "# [Problem 4] Heat map of the number of wheat"
   ]
  },
  {
   "cell_type": "markdown",
   "metadata": {},
   "source": [
    "Visualize the number of wheat on the 8x8 chess board as a heat map"
   ]
  },
  {
   "cell_type": "code",
   "execution_count": 82,
   "metadata": {},
   "outputs": [
    {
     "data": {
      "image/png": "[encoded data removed]",
      "text/plain": [
       "<Figure size 432x288 with 1 Axes>"
      ]
     },
     "metadata": {
      "needs_background": "light"
     },
     "output_type": "display_data"
    }
   ],
   "source": [
    "plt.xlabel(\"column\")\n",
    "plt.ylabel(\"row\")\n",
    "plt.title(\"heatmap\")\n",
    "plt.pcolor(chess_board_ndarray)\n",
    "plt.show()"
   ]
  },
  {
   "cell_type": "markdown",
   "metadata": {},
   "source": [
    "# [Problem 5] How many times is the second half as long as the first half?"
   ]
  },
  {
   "cell_type": "code",
   "execution_count": null,
   "metadata": {},
   "outputs": [],
   "source": []
  },
  {
   "cell_type": "code",
   "execution_count": 83,
   "metadata": {},
   "outputs": [
    {
     "name": "stdout",
     "output_type": "stream",
     "text": [
      "The Number of wheats on an 8/8 chessboard\n",
      "[[1.00000000e+00 2.00000000e+00 4.00000000e+00 8.00000000e+00\n",
      "  1.60000000e+01 3.20000000e+01 6.40000000e+01 1.28000000e+02]\n",
      " [2.56000000e+02 5.12000000e+02 1.02400000e+03 2.04800000e+03\n",
      "  4.09600000e+03 8.19200000e+03 1.63840000e+04 3.27680000e+04]\n",
      " [6.55360000e+04 1.31072000e+05 2.62144000e+05 5.24288000e+05\n",
      "  1.04857600e+06 2.09715200e+06 4.19430400e+06 8.38860800e+06]\n",
      " [1.67772160e+07 3.35544320e+07 6.71088640e+07 1.34217728e+08\n",
      "  2.68435456e+08 5.36870912e+08 1.07374182e+09 2.14748365e+09]\n",
      " [4.29496730e+09 8.58993459e+09 1.71798692e+10 3.43597384e+10\n",
      "  6.87194767e+10 1.37438953e+11 2.74877907e+11 5.49755814e+11]\n",
      " [1.09951163e+12 2.19902326e+12 4.39804651e+12 8.79609302e+12\n",
      "  1.75921860e+13 3.51843721e+13 7.03687442e+13 1.40737488e+14]\n",
      " [2.81474977e+14 5.62949953e+14 1.12589991e+15 2.25179981e+15\n",
      "  4.50359963e+15 9.00719925e+15 1.80143985e+16 3.60287970e+16]\n",
      " [7.20575940e+16 1.44115188e+17 2.88230376e+17 5.76460752e+17\n",
      "  1.15292150e+18 2.30584301e+18 4.61168602e+18 9.22337204e+18]]\n"
     ]
    }
   ],
   "source": [
    "number_square = 64\n",
    "ches_board_list = [1]\n",
    "for _ in range(number_square - 1):\n",
    "    ches_board_list.append(2*ches_board_list[_])\n",
    "    \n",
    "def calc_n_of_wheats(n,m):\n",
    "    number_square = n*m\n",
    "    ches_board_list =[1]\n",
    "    for square in range(number_square-1):\n",
    "        ches_board_list.append(2*ches_board_list[square])\n",
    "    return np.array(ches_board_list).reshape(n,m)\n",
    "print(\"The Number of wheats on an 8/8 chessboard\")\n",
    "print(calc_n_of_wheats(8,8))"
   ]
  },
  {
   "cell_type": "markdown",
   "metadata": {},
   "source": [
    "The half of 8 by 8"
   ]
  },
  {
   "cell_type": "code",
   "execution_count": 84,
   "metadata": {},
   "outputs": [
    {
     "name": "stdout",
     "output_type": "stream",
     "text": [
      "first half\n",
      "[[1.00000000e+00 2.00000000e+00 4.00000000e+00 8.00000000e+00\n",
      "  1.60000000e+01 3.20000000e+01 6.40000000e+01 1.28000000e+02]\n",
      " [2.56000000e+02 5.12000000e+02 1.02400000e+03 2.04800000e+03\n",
      "  4.09600000e+03 8.19200000e+03 1.63840000e+04 3.27680000e+04]\n",
      " [6.55360000e+04 1.31072000e+05 2.62144000e+05 5.24288000e+05\n",
      "  1.04857600e+06 2.09715200e+06 4.19430400e+06 8.38860800e+06]\n",
      " [1.67772160e+07 3.35544320e+07 6.71088640e+07 1.34217728e+08\n",
      "  2.68435456e+08 5.36870912e+08 1.07374182e+09 2.14748365e+09]]\n",
      "second half\n",
      "[[4.29496730e+09 8.58993459e+09 1.71798692e+10 3.43597384e+10\n",
      "  6.87194767e+10 1.37438953e+11 2.74877907e+11 5.49755814e+11]\n",
      " [1.09951163e+12 2.19902326e+12 4.39804651e+12 8.79609302e+12\n",
      "  1.75921860e+13 3.51843721e+13 7.03687442e+13 1.40737488e+14]\n",
      " [2.81474977e+14 5.62949953e+14 1.12589991e+15 2.25179981e+15\n",
      "  4.50359963e+15 9.00719925e+15 1.80143985e+16 3.60287970e+16]\n",
      " [7.20575940e+16 1.44115188e+17 2.88230376e+17 5.76460752e+17\n",
      "  1.15292150e+18 2.30584301e+18 4.61168602e+18 9.22337204e+18]]\n"
     ]
    }
   ],
   "source": [
    "n = 8\n",
    "m = 8\n",
    "half = int(n/2)\n",
    "first_half = chess_board_ndarray[0:half]\n",
    "second_half = chess_board_ndarray[half:n]\n",
    "print(\"first half\")\n",
    "print(first_half)\n",
    "print(\"second half\")\n",
    "print(second_half)"
   ]
  },
  {
   "cell_type": "code",
   "execution_count": 85,
   "metadata": {},
   "outputs": [
    {
     "name": "stdout",
     "output_type": "stream",
     "text": [
      "the second half is 4294967296.0 times than the first half\n"
     ]
    }
   ],
   "source": [
    "### calculate the sum\n",
    "sum_of_first_half = first_half.sum()\n",
    "sum_of_second_half = second_half.sum()\n",
    "\n",
    "n_times = sum_of_second_half/sum_of_first_half\n",
    "print(\"the second half is {} times than the first half\".format(n_times))"
   ]
  },
  {
   "cell_type": "markdown",
   "metadata": {},
   "source": [
    "# [Problem 6] Expansion to n × m mass by another calculation method"
   ]
  },
  {
   "cell_type": "markdown",
   "metadata": {},
   "source": [
    "np.append method"
   ]
  },
  {
   "cell_type": "code",
   "execution_count": 86,
   "metadata": {},
   "outputs": [
    {
     "name": "stdout",
     "output_type": "stream",
     "text": [
      "Number of wheat on a 8/8 chess board is: \n",
      "[1.00000000e+00 2.00000000e+00 4.00000000e+00 8.00000000e+00\n",
      " 1.60000000e+01 3.20000000e+01 6.40000000e+01 1.28000000e+02\n",
      " 2.56000000e+02 5.12000000e+02 1.02400000e+03 2.04800000e+03\n",
      " 4.09600000e+03 8.19200000e+03 1.63840000e+04 3.27680000e+04\n",
      " 6.55360000e+04 1.31072000e+05 2.62144000e+05 5.24288000e+05\n",
      " 1.04857600e+06 2.09715200e+06 4.19430400e+06 8.38860800e+06\n",
      " 1.67772160e+07 3.35544320e+07 6.71088640e+07 1.34217728e+08\n",
      " 2.68435456e+08 5.36870912e+08 1.07374182e+09 2.14748365e+09\n",
      " 4.29496730e+09 8.58993459e+09 1.71798692e+10 3.43597384e+10\n",
      " 6.87194767e+10 1.37438953e+11 2.74877907e+11 5.49755814e+11\n",
      " 1.09951163e+12 2.19902326e+12 4.39804651e+12 8.79609302e+12\n",
      " 1.75921860e+13 3.51843721e+13 7.03687442e+13 1.40737488e+14\n",
      " 2.81474977e+14 5.62949953e+14 1.12589991e+15 2.25179981e+15\n",
      " 4.50359963e+15 9.00719925e+15 1.80143985e+16 3.60287970e+16\n",
      " 7.20575940e+16 1.44115188e+17 2.88230376e+17 5.76460752e+17\n",
      " 1.15292150e+18 2.30584301e+18 4.61168602e+18 9.22337204e+18]\n"
     ]
    }
   ],
   "source": [
    "import numpy as np\n",
    "def calc_number_of_wheat_append(n, m):\n",
    "    chess_square = n*m\n",
    "    chess_Board_list = np.array([1]).astype(np.uint64)\n",
    "    for seed in range (chess_square-1):\n",
    "        chess_Board_list = np.append(chess_Board_list, 2*chess_Board_list[-1])\n",
    "        \n",
    "    return chess_Board_list\n",
    "print(\"Number of wheat on a 8/8 chess board is: \")\n",
    "print(calc_number_of_wheat_append(8,8))"
   ]
  },
  {
   "cell_type": "markdown",
   "metadata": {},
   "source": [
    "Broadcast Mehod"
   ]
  },
  {
   "cell_type": "code",
   "execution_count": 87,
   "metadata": {},
   "outputs": [
    {
     "name": "stdout",
     "output_type": "stream",
     "text": [
      "the number of wheats on an 8/8 chess board\n",
      "[  0   2   4   6   8  10  12  14  16  18  20  22  24  26  28  30  32  34\n",
      "  36  38  40  42  44  46  48  50  52  54  56  58  60  62  64  66  68  70\n",
      "  72  74  76  78  80  82  84  86  88  90  92  94  96  98 100 102 104 106\n",
      " 108 110 112 114 116 118 120 122 124 126]\n"
     ]
    }
   ],
   "source": [
    "def calc_number_of_wheats_broadcast(n,m):\n",
    "    n_square = n*m\n",
    "    chess_board_ndarray = np.arange(n_square).astype(np.uint64)\n",
    "    chess_board_ndarray = 2*chess_board_ndarray\n",
    "    return chess_board_ndarray\n",
    "\n",
    "print(\"the number of wheats on an 8/8 chess board\")\n",
    "print(calc_number_of_wheats_broadcast(8,8))"
   ]
  },
  {
   "cell_type": "markdown",
   "metadata": {},
   "source": [
    "# [Problem 7] Comparing calculation times"
   ]
  },
  {
   "cell_type": "code",
   "execution_count": 88,
   "metadata": {
    "scrolled": true
   },
   "outputs": [
    {
     "name": "stdout",
     "output_type": "stream",
     "text": [
      "1.01 ms ± 69.9 µs per loop (mean ± std. dev. of 7 runs, 1000 loops each)\n"
     ]
    }
   ],
   "source": [
    "%%timeit\n",
    "calc_number_of_wheat_append(8,8)"
   ]
  },
  {
   "cell_type": "code",
   "execution_count": 89,
   "metadata": {},
   "outputs": [
    {
     "name": "stdout",
     "output_type": "stream",
     "text": [
      "6.46 µs ± 826 ns per loop (mean ± std. dev. of 7 runs, 100000 loops each)\n"
     ]
    }
   ],
   "source": [
    "%%timeit\n",
    "calc_number_of_wheats_broadcast(8,8)"
   ]
  },
  {
   "cell_type": "markdown",
   "metadata": {},
   "source": [
    "I think the broadcast methon is faster than the append method"
   ]
  },
  {
   "cell_type": "code",
   "execution_count": null,
   "metadata": {},
   "outputs": [],
   "source": []
  }
 ],
 "metadata": {
  "kernelspec": {
   "display_name": "Python 3",
   "language": "python",
   "name": "python3"
  },
  "language_info": {
   "codemirror_mode": {
    "name": "ipython",
    "version": 3
   },
   "file_extension": ".py",
   "mimetype": "text/x-python",
   "name": "python",
   "nbconvert_exporter": "python",
   "pygments_lexer": "ipython3",
   "version": "3.8.5"
  }
 },
 "nbformat": 4,
 "nbformat_minor": 4
}
